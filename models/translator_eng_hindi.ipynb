{
 "cells": [
  {
   "cell_type": "code",
   "execution_count": 2,
   "metadata": {},
   "outputs": [
    {
     "name": "stderr",
     "output_type": "stream",
     "text": [
      "c:\\Users\\rishi\\anaconda3\\envs\\py310\\lib\\site-packages\\tensorflow_addons\\utils\\tfa_eol_msg.py:23: UserWarning: \n",
      "\n",
      "TensorFlow Addons (TFA) has ended development and introduction of new features.\n",
      "TFA has entered a minimal maintenance and release mode until a planned end of life in May 2024.\n",
      "Please modify downstream libraries to take dependencies from other repositories in our TensorFlow community (e.g. Keras, Keras-CV, and Keras-NLP). \n",
      "\n",
      "For more information see: https://github.com/tensorflow/addons/issues/2807 \n",
      "\n",
      "  warnings.warn(\n"
     ]
    }
   ],
   "source": [
    "import tensorflow as tf\n",
    "import tensorflow_addons as tfa\n",
    "\n",
    "import matplotlib.pyplot as plt\n",
    "import matplotlib.ticker as ticker\n",
    "from sklearn.model_selection import train_test_split\n",
    "\n",
    "from data.data_utils import hindi_characters_pattern\n",
    "import unicodedata\n",
    "import re\n",
    "import numpy as np\n",
    "import os\n",
    "import io\n",
    "import time"
   ]
  },
  {
   "cell_type": "code",
   "execution_count": 2,
   "metadata": {},
   "outputs": [],
   "source": [
    "tf.debugging.set_log_device_placement(False)"
   ]
  },
  {
   "cell_type": "code",
   "execution_count": 3,
   "metadata": {},
   "outputs": [],
   "source": [
    "# import pandas as pd\n",
    "# df = pd.read_parquet('./data/translation/eng-hi.parquet')\n",
    "# df.to_csv('out.txt', index=False, sep='\\t')   \n"
   ]
  },
  {
   "cell_type": "code",
   "execution_count": 4,
   "metadata": {},
   "outputs": [],
   "source": [
    "# def extract_values(row):\n",
    "#     return pd.Series([row['translation']['en'], row['translation']['hi']])\n",
    "\n",
    "# # Apply the function to each row to create two new columns\n",
    "# df[['en', 'hi']] = df.apply(extract_values, axis=1)\n",
    "\n",
    "# # Drop the original column\n",
    "# df.drop('original_column', axis=1, inplace=True)"
   ]
  },
  {
   "cell_type": "code",
   "execution_count": 5,
   "metadata": {},
   "outputs": [],
   "source": [
    "# # Open the file for writing\n",
    "# with open('en-hi.txt', 'w', encoding='utf-8') as file:\n",
    "#     # Define the extract_values function\n",
    "#     def extract_values(row):\n",
    "#         en_value = row['translation']['en']\n",
    "#         hi_value = row['translation']['hi']\n",
    "#         # Write the values to the file separated by a tab (\\t) and each row separated by a newline (\\n)\n",
    "#         file.write(f\"{en_value}\\t{hi_value}\\n\")\n",
    "    \n",
    "#     # Apply the function to each row\n",
    "#     df.apply(extract_values, axis=1)"
   ]
  },
  {
   "cell_type": "markdown",
   "metadata": {},
   "source": [
    "### Example of preprocessing Hindi text"
   ]
  },
  {
   "cell_type": "code",
   "execution_count": 6,
   "metadata": {},
   "outputs": [
    {
     "name": "stdout",
     "output_type": "stream",
     "text": [
      "११ राम ! बहुत अच्छा है । तीसरी योजना में लगभग सभी अतिरिक़्त क्षमता सार्वजनिक क्षेत्र को देते हुए इस्पात पिंडों का लक्ष्य लाख टन पर निश्चित किया गया\n"
     ]
    }
   ],
   "source": [
    "def preprocess_hindi_text(w):\n",
    "    # eg: \"वह लड़का है.\" => \"वह लड़का है .\"\n",
    "    # Reference: https://stackoverflow.com/questions/3645931/python-padding-punctuation-with-white-spaces-keeping-punctuation\n",
    "    # Replace everything with space except (a-z, A-Z, \".\", \"?\", \"!\", \",\", \"।\", Hindi characters)\n",
    "    w = re.sub(r\"[^?.!,\"+hindi_characters_pattern+\"]\", \" \", w)        # leaving english terms also, if needed (Ideally should not be given)\n",
    "    w = re.sub(r\"([?.!,।])\", r\" \\1 \", w)\n",
    "    w = re.sub(r'[\" \"]+', \" \", w)\n",
    "    w = w.strip()\n",
    "    return w\n",
    "\n",
    "# Example usage:\n",
    "hindi_text = \"११ राम!     बहुत अच्छा है। तीसरी योजना में लगभग सभी अतिरिक़्त क्षमता सार्वजनिक क्षेत्र को देते हुए इस्पात पिंडों का लक्ष्य 102 लाख टन पर निश्चितZ किया गया \"\n",
    "processed_hindi_text = preprocess_hindi_text(hindi_text)\n",
    "print(processed_hindi_text)\n"
   ]
  },
  {
   "cell_type": "markdown",
   "metadata": {},
   "source": [
    "# Simplifying our dataset"
   ]
  },
  {
   "cell_type": "markdown",
   "metadata": {},
   "source": [
    "DataSet has varied lengths of sentences"
   ]
  },
  {
   "cell_type": "code",
   "execution_count": 7,
   "metadata": {},
   "outputs": [],
   "source": [
    "def preprocess_sentence_hindi(w):\n",
    "    # Create a space between a word and the punctuation following it\n",
    "    # eg: \"वह लड़का है.\" => \"वह लड़का है .\"\n",
    "    # Reference: https://stackoverflow.com/questions/3645931/python-padding-punctuation-with-white-spaces-keeping-punctuation\n",
    "    # Replace everything with space except (a-z, A-Z, \".\", \"?\", \"!\", \",\", \"।\", Hindi characters)\n",
    "    # Reference: https://stackoverflow.com/questions/76658990/regex-expression-to-validate-only-hindi-devnagri-letters-in-python\n",
    "    w = re.sub(r\"[^?.!,\"+hindi_characters_pattern+\"]\", \" \", w)        # discarded english terms also, if needed (Ideally should not be given)\n",
    "    w = re.sub(r\"([?.!,।])\", r\" \\1 \", w)\n",
    "    w = re.sub(r'[\" \"]+', \" \", w)\n",
    "    w = w.strip()\n",
    "\n",
    "    # Add a start and an end token to the sentence\n",
    "    # so that the model knows when to start and stop predicting.\n",
    "    w = '<start> ' + w + ' <end>'\n",
    "    return w\n",
    "\n",
    "def unicode_to_ascii(s):\n",
    "    return ''.join(c for c in unicodedata.normalize('NFD', s) if unicodedata.category(c) != 'Mn')\n",
    "\n",
    "def preprocess_sentence_english(w):\n",
    "    w = unicode_to_ascii(w.lower().strip())\n",
    "\n",
    "    # creating a space between a word and the punctuation following it\n",
    "    # eg: \"he is a boy.\" => \"he is a boy .\"\n",
    "    # Reference:- https://stackoverflow.com/questions/3645931/python-padding-punctuation-with-white-spaces-keeping-punctuation\n",
    "    w = re.sub(r\"([?.!,¿])\", r\" \\1 \", w)\n",
    "    w = re.sub(r'[\" \"]+', \" \", w)\n",
    "\n",
    "    # replacing everything with space except (a-z, A-Z, \".\", \"?\", \"!\", \",\")\n",
    "    w = re.sub(r\"[^a-zA-Z?.!,¿]+\", \" \", w)\n",
    "    w = w.strip()\n",
    "\n",
    "    # adding a start and an end token to the sentence\n",
    "    # so that the model know when to start and stop predicting.\n",
    "    w = '<start> ' + w + ' <end>'\n",
    "    return w\n",
    "\n",
    "def get_dataset(path):\n",
    "    # path : path to en-hi.txt file\n",
    "    # num_examples : Limit the total number of training example for faster training (set num_examples = len(lines) to use full data)\n",
    "    lines = io.open(path, encoding='UTF-8').read().strip().split('\\n')\n",
    "    # lines contains each of the lines as it is in .txt ... like 0->'Go.\\tVe.', 1->'Go.\\tVete.'...\n",
    "    word_pairs = [[preprocess_sentence_english(l.split('\\t')[0]),preprocess_sentence_hindi(l.split('\\t')[1])]  for l in lines[:]]\n",
    "    # word_pairs = [['<start> go . <end>', '<start> ve . <end>'],['<start> go . <end>', '<start> vete . <end>'],...]\n",
    "    # del lines # releasing memory?\n",
    "    return zip(*word_pairs)"
   ]
  },
  {
   "cell_type": "code",
   "execution_count": 8,
   "metadata": {},
   "outputs": [],
   "source": [
    "path = \"data/translation/en-hi.txt\"\n",
    "inp_lang, targ_lang  = get_dataset(path)"
   ]
  },
  {
   "cell_type": "markdown",
   "metadata": {},
   "source": [
    "## For input sentences"
   ]
  },
  {
   "cell_type": "code",
   "execution_count": 9,
   "metadata": {},
   "outputs": [],
   "source": [
    "intput_word_sentences = [list(sentence.split()) for sentence in inp_lang]"
   ]
  },
  {
   "cell_type": "markdown",
   "metadata": {},
   "source": [
    "Run the following commented code to see the inputs of some lengths"
   ]
  },
  {
   "cell_type": "code",
   "execution_count": 10,
   "metadata": {},
   "outputs": [],
   "source": [
    "# max_len = 0\n",
    "# for i in range(len(intput_word_sentences)):\n",
    "#     if max_len<len(intput_word_sentences[i]):\n",
    "#         print(\"length -> \",len(intput_word_sentences[i]),\" Example : \",i,\") \",inp_lang[i])\n",
    "#         print(i)\n",
    "#         max_len = len(intput_word_sentences[i])"
   ]
  },
  {
   "cell_type": "code",
   "execution_count": 11,
   "metadata": {},
   "outputs": [],
   "source": [
    "# Calculate the lengths of all sentences\n",
    "words_per_sentence = [len(sentence) for sentence in intput_word_sentences]\n"
   ]
  },
  {
   "cell_type": "code",
   "execution_count": 12,
   "metadata": {},
   "outputs": [
    {
     "data": {
      "image/png": "[encoded data removed]",
      "text/plain": [
       "<Figure size 640x480 with 1 Axes>"
      ]
     },
     "metadata": {},
     "output_type": "display_data"
    }
   ],
   "source": [
    "input_sorted_lengths = np.sort(words_per_sentence)\n",
    "cumulative_percentage = np.arange(1, len(input_sorted_lengths) + 1) / len(input_sorted_lengths)\n",
    "\n",
    "plt.step(input_sorted_lengths, cumulative_percentage, color='skyblue', where='mid')\n",
    "plt.xlabel('Sentence Length')\n",
    "plt.ylabel('Cumulative Percentage')\n",
    "plt.title('Cumulative Distribution of Sentence Lengths (Input)')\n",
    "plt.grid(True)\n",
    "plt.show()\n"
   ]
  },
  {
   "cell_type": "markdown",
   "metadata": {},
   "source": [
    "As can be seen from above, some high length sentences are present in very less frequency"
   ]
  },
  {
   "cell_type": "code",
   "execution_count": 13,
   "metadata": {},
   "outputs": [
    {
     "data": {
      "image/png": "[encoded data removed]",
      "text/plain": [
       "<Figure size 640x480 with 1 Axes>"
      ]
     },
     "metadata": {},
     "output_type": "display_data"
    }
   ],
   "source": [
    "\n",
    "percentiles = np.arange(0, 100, 5)\n",
    "percentile_values = np.percentile(words_per_sentence, percentiles)\n",
    "\n",
    "plt.plot(percentile_values,percentiles, marker='o')\n",
    "plt.ylabel('Percentile')\n",
    "plt.xlabel('Sentence Length')\n",
    "plt.title('Percentile Graph of Sentence Lengths (Input)')\n",
    "plt.grid(True)\n",
    "plt.show()\n"
   ]
  },
  {
   "cell_type": "markdown",
   "metadata": {},
   "source": [
    "## For Target Sentences"
   ]
  },
  {
   "cell_type": "code",
   "execution_count": 14,
   "metadata": {},
   "outputs": [],
   "source": [
    "target_word_sentences = [list(sentence.split()) for sentence in targ_lang]"
   ]
  },
  {
   "cell_type": "markdown",
   "metadata": {},
   "source": [
    "Run the following commented code to see the targets of some lengths"
   ]
  },
  {
   "cell_type": "code",
   "execution_count": 15,
   "metadata": {},
   "outputs": [],
   "source": [
    "# max_len = 0\n",
    "# for i in range(len(target_word_sentences)):\n",
    "#     if max_len<len(target_word_sentences[i]):\n",
    "#         print(\"length -> \",len(target_word_sentences[i]),\" Example : \",i,\") \",targ_lang[i])\n",
    "#         print(i)\n",
    "#         max_len = len(target_word_sentences[i])"
   ]
  },
  {
   "cell_type": "code",
   "execution_count": 16,
   "metadata": {},
   "outputs": [],
   "source": [
    "# Calculate the lengths of all sentences\n",
    "words_per_sentence = [len(sentence) for sentence in target_word_sentences]\n"
   ]
  },
  {
   "cell_type": "code",
   "execution_count": 17,
   "metadata": {},
   "outputs": [
    {
     "data": {
      "image/png": "[encoded data removed]",
      "text/plain": [
       "<Figure size 640x480 with 1 Axes>"
      ]
     },
     "metadata": {},
     "output_type": "display_data"
    }
   ],
   "source": [
    "target_sorted_lengths = np.sort(words_per_sentence)\n",
    "cumulative_percentage = np.arange(1, len(target_sorted_lengths) + 1) / len(target_sorted_lengths)\n",
    "\n",
    "plt.step(target_sorted_lengths, cumulative_percentage, color='skyblue', where='mid')\n",
    "plt.xlabel('Sentence Length')\n",
    "plt.ylabel('Cumulative Percentage')\n",
    "plt.title('Cumulative Distribution of Sentence Lengths (Target)')\n",
    "plt.grid(True)\n",
    "plt.show()\n"
   ]
  },
  {
   "cell_type": "markdown",
   "metadata": {},
   "source": [
    "As can be seen from above, "
   ]
  },
  {
   "cell_type": "code",
   "execution_count": 18,
   "metadata": {},
   "outputs": [
    {
     "data": {
      "image/png": "[encoded data removed]",
      "text/plain": [
       "<Figure size 640x480 with 1 Axes>"
      ]
     },
     "metadata": {},
     "output_type": "display_data"
    }
   ],
   "source": [
    "percentiles = np.arange(0, 100, 5)\n",
    "percentile_values = np.percentile(words_per_sentence, percentiles)\n",
    "\n",
    "plt.plot(percentile_values,percentiles, marker='o')\n",
    "plt.ylabel('Percentile')\n",
    "plt.xlabel('Sentence Length')\n",
    "plt.title('Percentile Graph of Sentence Lengths (Target)')\n",
    "plt.grid(True)\n",
    "plt.show()\n"
   ]
  },
  {
   "cell_type": "markdown",
   "metadata": {},
   "source": [
    "### Lets calculate a threshold of length that should be allowed in our dataset"
   ]
  },
  {
   "cell_type": "code",
   "execution_count": 19,
   "metadata": {},
   "outputs": [],
   "source": [
    "# on the basis of input\n",
    "input_sorted_lengths\n",
    "curr = 0\n",
    "cummulativeDict = {}\n",
    "for i in range(len(input_sorted_lengths)):\n",
    "    if input_sorted_lengths[i]!=curr or i == len(input_sorted_lengths)-1:\n",
    "        curr = input_sorted_lengths[i]\n",
    "        cummulativeDict[input_sorted_lengths[i]] = (i+1)/len(input_sorted_lengths)"
   ]
  },
  {
   "cell_type": "code",
   "execution_count": 20,
   "metadata": {},
   "outputs": [
    {
     "data": {
      "text/plain": [
       "{2: 6.027425993756792e-07,\n",
       " 3: 0.0022199009935006267,\n",
       " 4: 0.16759438798420573,\n",
       " 5: 0.26962786069171946,\n",
       " 6: 0.31830896947289555,\n",
       " 7: 0.35108490654174623,\n",
       " 8: 0.38061386922776014,\n",
       " 9: 0.41027181883004044,\n",
       " 10: 0.4408905401357256,\n",
       " 11: 0.4716484949818665,\n",
       " 12: 0.5028313833605672,\n",
       " 13: 0.5330016641723169,\n",
       " 14: 0.5618489249784369,\n",
       " 15: 0.5903315265119347,\n",
       " 16: 0.6166008572205248,\n",
       " 17: 0.6417382373274876,\n",
       " 18: 0.665150568115037,\n",
       " 19: 0.6867510546488632,\n",
       " 20: 0.7069013424885916,\n",
       " 21: 0.7260402282465676,\n",
       " 22: 0.7440025604505621,\n",
       " 23: 0.7612114644053372,\n",
       " 24: 0.7775192681740456,\n",
       " 25: 0.7929609308274511,\n",
       " 26: 0.8073809447749148,\n",
       " 27: 0.8206852821709342,\n",
       " 28: 0.833032464319145,\n",
       " 29: 0.8446858897354743,\n",
       " 30: 0.855656407786711,\n",
       " 31: 0.8657053324035024,\n",
       " 32: 0.8751051032407662,\n",
       " 33: 0.8839425152328123,\n",
       " 34: 0.8920934034041696,\n",
       " 35: 0.8995939323108006,\n",
       " 36: 0.9067189525780205,\n",
       " 37: 0.9132430384736628,\n",
       " 38: 0.9192005463258921,\n",
       " 39: 0.9247783263405146,\n",
       " 40: 0.9299347892781735,\n",
       " 41: 0.934662099485077,\n",
       " 42: 0.9389415719406443,\n",
       " 43: 0.943022742081017,\n",
       " 44: 0.9465915810119204,\n",
       " 45: 0.9498843638323098,\n",
       " 46: 0.9529306249295545,\n",
       " 47: 0.9557080628274776,\n",
       " 48: 0.958217883011278,\n",
       " 49: 0.9607162510856901,\n",
       " 50: 0.9629795495463458,\n",
       " 51: 0.9650939705849557,\n",
       " 52: 0.9670034591397778,\n",
       " 53: 0.9688140979083023,\n",
       " 54: 0.9705409554555137,\n",
       " 55: 0.972088195708111,\n",
       " 56: 0.9736143399697302,\n",
       " 57: 0.9749940177797012,\n",
       " 58: 0.9762398867326108,\n",
       " 59: 0.9773995634938095,\n",
       " 60: 0.9784971577672726,\n",
       " 61: 0.9795682313663632,\n",
       " 62: 0.9805452771199512,\n",
       " 63: 0.9814849528323779,\n",
       " 64: 0.9823619433144695,\n",
       " 65: 0.9832618380153374,\n",
       " 66: 0.9840797597226902,\n",
       " 67: 0.9847873795343572,\n",
       " 68: 0.9854943966034249,\n",
       " 69: 0.9861640436313313,\n",
       " 70: 0.9868089782126632,\n",
       " 71: 0.9874111180694396,\n",
       " 72: 0.987987942737042,\n",
       " 73: 0.9885075068577039,\n",
       " 74: 0.9890005503039933,\n",
       " 75: 0.9894857580964906,\n",
       " 76: 0.9899251574514355,\n",
       " 77: 0.990330200478216,\n",
       " 78: 0.9907557367533752,\n",
       " 79: 0.9911372728187801,\n",
       " 80: 0.9914784251300266,\n",
       " 81: 0.9918075225892857,\n",
       " 82: 0.9921571132969237,\n",
       " 83: 0.9924934436673752,\n",
       " 84: 0.9928068698190506,\n",
       " 85: 0.9930823231869653,\n",
       " 86: 0.9933264339397124,\n",
       " 87: 0.9935602980682703,\n",
       " 88: 0.9938026005932192,\n",
       " 89: 0.9940201906715939,\n",
       " 90: 0.9942311505813753,\n",
       " 91: 0.9944360830651631,\n",
       " 92: 0.9946295634395627,\n",
       " 93: 0.9948465507753379,\n",
       " 94: 0.995023154356955,\n",
       " 95: 0.9952057853645658,\n",
       " 96: 0.9953829916887823,\n",
       " 97: 0.9955457321906137,\n",
       " 98: 0.9957175138314358,\n",
       " 99: 0.9958507199458978,\n",
       " 100: 0.9959803096047636,\n",
       " 101: 0.9961038718376356,\n",
       " 102: 0.9962364752094982,\n",
       " 103: 0.9963473798477834,\n",
       " 104: 0.996475161278851,\n",
       " 105: 0.9965830522041392,\n",
       " 106: 0.9967042034666138,\n",
       " 107: 0.996812094391902,\n",
       " 108: 0.9969217935449884,\n",
       " 109: 0.9970146159052923,\n",
       " 110: 0.9971267260287762,\n",
       " 111: 0.9972231648446762,\n",
       " 112: 0.9973202064031758,\n",
       " 113: 0.9974214671598708,\n",
       " 114: 0.9975118785497772,\n",
       " 115: 0.9975938515432923,\n",
       " 116: 0.9976710025960124,\n",
       " 117: 0.9977433317079375,\n",
       " 118: 0.9978210855032569,\n",
       " 119: 0.9978904009021852,\n",
       " 120: 0.9979585108159146,\n",
       " 121: 0.9980278262148428,\n",
       " 122: 0.9980887032173797,\n",
       " 123: 0.9981507857051154,\n",
       " 124: 0.9982098544798542,\n",
       " 125: 0.9982731424527886,\n",
       " 126: 0.9983261838015337,\n",
       " 127: 0.9983810333780769,\n",
       " 128: 0.998434074726822,\n",
       " 129: 0.9984841023625701,\n",
       " 130: 0.9985329245131196,\n",
       " 131: 0.9985715000394796,\n",
       " 132: 0.9986185139622309,\n",
       " 133: 0.9986637196571841,\n",
       " 134: 0.9987089253521373,\n",
       " 135: 0.9987487063636961,\n",
       " 136: 0.9987933093160499,\n",
       " 137: 0.9988288711294131,\n",
       " 138: 0.9988565972889843,\n",
       " 139: 0.998884926191155,\n",
       " 140: 0.998923501717515,\n",
       " 141: 0.9989542415900832,\n",
       " 142: 0.9989831732348532,\n",
       " 143: 0.9990169268204183,\n",
       " 144: 0.9990494749207846,\n",
       " 145: 0.9990802147933527,\n",
       " 146: 0.9991139683789177,\n",
       " 147: 0.9991404890532902,\n",
       " 148: 0.999168817955461,\n",
       " 149: 0.9991887084612403,\n",
       " 150: 0.9992242702746035,\n",
       " 151: 0.9992532019193735,\n",
       " 152: 0.9992718869399542,\n",
       " 153: 0.9992857500197398,\n",
       " 154: 0.9993189008627055,\n",
       " 155: 0.999340599596283,\n",
       " 156: 0.9993610928446618,\n",
       " 157: 0.9993870107764349,\n",
       " 158: 0.9994093122526119,\n",
       " 159: 0.9994267917879938,\n",
       " 160: 0.99944005212518,\n",
       " 161: 0.9994665727995525,\n",
       " 162: 0.99948827153313,\n",
       " 163: 0.9995081620389095,\n",
       " 164: 0.9995178059204994,\n",
       " 165: 0.9995322717428845,\n",
       " 166: 0.999544326594872,\n",
       " 167: 0.9995527649912632,\n",
       " 168: 0.9995666280710489,\n",
       " 169: 0.9995786829230364,\n",
       " 170: 0.9995943542306202,\n",
       " 171: 0.9996082173104058,\n",
       " 172: 0.9996160529641976,\n",
       " 173: 0.9996262995883871,\n",
       " 174: 0.9996371489551759,\n",
       " 175: 0.9996449846089678,\n",
       " 176: 0.9996552312331571,\n",
       " 177: 0.9996672860851447,\n",
       " 178: 0.9996733135111384,\n",
       " 179: 0.9996793409371322,\n",
       " 180: 0.9996895875613215,\n",
       " 181: 0.9996962177299147,\n",
       " 182: 0.9997046561263059,\n",
       " 183: 0.999709478067101,\n",
       " 184: 0.9997173137208928,\n",
       " 185: 0.9997257521172841,\n",
       " 186: 0.9997329850284766,\n",
       " 187: 0.999738409711871,\n",
       " 188: 0.9997456426230634,\n",
       " 189: 0.9997522727916566,\n",
       " 190: 0.9997583002176503,\n",
       " 191: 0.9997649303862435,\n",
       " 192: 0.9997745742678334,\n",
       " 193: 0.9997812044364266,\n",
       " 194: 0.9997854236346223,\n",
       " 195: 0.9997908483180167,\n",
       " 196: 0.9997968757440104,\n",
       " 197: 0.999801094942206,\n",
       " 198: 0.9998077251107992,\n",
       " 199: 0.9998131497941936,\n",
       " 200: 0.9998179717349885,\n",
       " 201: 0.9998239991609823,\n",
       " 202: 0.9998288211017773,\n",
       " 203: 0.9998342457851717,\n",
       " 204: 0.9998366567555692,\n",
       " 205: 0.9998438896667617,\n",
       " 206: 0.9998499170927555,\n",
       " 207: 0.9998547390335505,\n",
       " 208: 0.9998583554891467,\n",
       " 209: 0.9998631774299417,\n",
       " 210: 0.9998655884003392,\n",
       " 211: 0.9998673966281374,\n",
       " 212: 0.9998734240541312,\n",
       " 213: 0.9998794514801249,\n",
       " 214: 0.9998806569653236,\n",
       " 215: 0.9998854789061187,\n",
       " 216: 0.9998896981043143,\n",
       " 218: 0.9998915063321123,\n",
       " 219: 0.9998975337581061,\n",
       " 220: 0.999900547471103,\n",
       " 221: 0.9999011502137024,\n",
       " 222: 0.9999029584415006,\n",
       " 223: 0.999905369411898,\n",
       " 224: 0.9999083831248949,\n",
       " 225: 0.9999119995804912,\n",
       " 226: 0.9999126023230905,\n",
       " 227: 0.9999132050656899,\n",
       " 228: 0.9999144105508887,\n",
       " 229: 0.9999156160360874,\n",
       " 230: 0.9999162187786867,\n",
       " 232: 0.9999180270064849,\n",
       " 233: 0.9999204379768825,\n",
       " 234: 0.9999222462046805,\n",
       " 235: 0.9999228489472799,\n",
       " 236: 0.9999234516898793,\n",
       " 237: 0.9999246571750781,\n",
       " 238: 0.9999252599176774,\n",
       " 239: 0.9999270681454755,\n",
       " 240: 0.999929479115873,\n",
       " 241: 0.9999312873436712,\n",
       " 242: 0.9999330955714693,\n",
       " 243: 0.999934301056668,\n",
       " 244: 0.9999367120270656,\n",
       " 245: 0.999937314769665,\n",
       " 246: 0.9999379175122644,\n",
       " 247: 0.999939122997463,\n",
       " 250: 0.9999409312252612,\n",
       " 251: 0.9999415339678606,\n",
       " 253: 0.99994213671046,\n",
       " 255: 0.9999439449382581,\n",
       " 257: 0.9999451504234568,\n",
       " 258: 0.9999457531660562,\n",
       " 261: 0.9999475613938543,\n",
       " 262: 0.9999481641364537,\n",
       " 264: 0.9999493696216525,\n",
       " 265: 0.9999511778494505,\n",
       " 266: 0.9999517805920499,\n",
       " 268: 0.9999535888198481,\n",
       " 270: 0.9999553970476462,\n",
       " 271: 0.9999572052754443,\n",
       " 272: 0.9999578080180437,\n",
       " 274: 0.9999584107606431,\n",
       " 275: 0.9999590135032425,\n",
       " 276: 0.9999596162458418,\n",
       " 278: 0.99996142447364,\n",
       " 281: 0.9999620272162393,\n",
       " 282: 0.9999638354440374,\n",
       " 285: 0.9999650409292362,\n",
       " 286: 0.9999656436718356,\n",
       " 287: 0.9999668491570344,\n",
       " 290: 0.999968054642233,\n",
       " 295: 0.9999692601274318,\n",
       " 297: 0.9999698628700312,\n",
       " 298: 0.9999716710978294,\n",
       " 306: 0.9999722738404287,\n",
       " 307: 0.9999734793256275,\n",
       " 308: 0.9999740820682268,\n",
       " 314: 0.9999752875534256,\n",
       " 316: 0.9999764930386243,\n",
       " 319: 0.9999770957812237,\n",
       " 321: 0.9999789040090219,\n",
       " 324: 0.9999801094942206,\n",
       " 326: 0.99998071223682,\n",
       " 327: 0.9999813149794193,\n",
       " 335: 0.9999819177220187,\n",
       " 339: 0.9999825204646181,\n",
       " 344: 0.9999831232072175,\n",
       " 354: 0.9999837259498169,\n",
       " 355: 0.9999843286924163,\n",
       " 356: 0.9999849314350157,\n",
       " 357: 0.9999861369202143,\n",
       " 358: 0.9999867396628137,\n",
       " 361: 0.9999879451480125,\n",
       " 368: 0.9999891506332113,\n",
       " 375: 0.9999897533758106,\n",
       " 378: 0.99999035611841,\n",
       " 379: 0.9999909588610094,\n",
       " 384: 0.9999915616036087,\n",
       " 385: 0.9999921643462081,\n",
       " 392: 0.9999933698314069,\n",
       " 404: 0.9999939725740062,\n",
       " 413: 0.9999945753166056,\n",
       " 421: 0.999995178059205,\n",
       " 432: 0.9999957808018044,\n",
       " 433: 0.9999963835444038,\n",
       " 568: 0.9999969862870032,\n",
       " 697: 0.9999975890296025,\n",
       " 708: 0.9999981917722018,\n",
       " 1353: 0.9999987945148012,\n",
       " 1662: 0.9999993972574006,\n",
       " 1685: 1.0}"
      ]
     },
     "execution_count": 20,
     "metadata": {},
     "output_type": "execute_result"
    }
   ],
   "source": [
    "cummulativeDict"
   ]
  },
  {
   "cell_type": "markdown",
   "metadata": {},
   "source": [
    "##### If I Choose length as 36, we will be able to utilize 90.67% of full data as our dataset "
   ]
  },
  {
   "cell_type": "code",
   "execution_count": 21,
   "metadata": {},
   "outputs": [],
   "source": [
    "del cummulativeDict\n",
    "del curr\n",
    "del input_sorted_lengths\n",
    "del target_sorted_lengths\n",
    "del words_per_sentence\n",
    "del cumulative_percentage\n",
    "del percentile_values\n",
    "del percentiles\n",
    "del inp_lang\n",
    "del targ_lang\n",
    "del path\n",
    "del intput_word_sentences\n",
    "del target_word_sentences"
   ]
  },
  {
   "cell_type": "code",
   "execution_count": 22,
   "metadata": {},
   "outputs": [],
   "source": [
    "# disabling GPU \n",
    "# os.environ[\"CUDA_VISIBLE_DEVICES\"] = \"-1\""
   ]
  },
  {
   "cell_type": "code",
   "execution_count": 3,
   "metadata": {},
   "outputs": [],
   "source": [
    "os.environ[\"TF_GPU_ALLOCATOR\"] = \"cuda_malloc_async\"            # Without this, fragmentation was the problem (small holes left in poorly allocated GPU memory bar) resulting into OOM -> Async makes efficient"
   ]
  },
  {
   "cell_type": "code",
   "execution_count": 4,
   "metadata": {},
   "outputs": [
    {
     "data": {
      "text/plain": [
       "[PhysicalDevice(name='/physical_device:GPU:0', device_type='GPU')]"
      ]
     },
     "execution_count": 4,
     "metadata": {},
     "output_type": "execute_result"
    }
   ],
   "source": [
    "tf.config.list_physical_devices('GPU')              # Checking for the availability"
   ]
  },
  {
   "cell_type": "code",
   "execution_count": 5,
   "metadata": {},
   "outputs": [],
   "source": [
    "class NMTDataset:\n",
    "    def __init__(self, problem_type='eng-hindi',threshold=None):\n",
    "        self.problem_type = problem_type\n",
    "        self.inp_lang_tokenizer = None\n",
    "        self.targ_lang_tokenizer = None\n",
    "        self.threshold = threshold\n",
    "\n",
    "    def unicode_to_ascii(self, s):\n",
    "        return ''.join(c for c in unicodedata.normalize('NFD', s) if unicodedata.category(c) != 'Mn')\n",
    "\n",
    "    ## Step 1 and Step 2 \n",
    "    def preprocess_sentence_hindi(self, w):\n",
    "        # Create a space between a word and the punctuation following it\n",
    "        # eg: \"वह लड़का है.\" => \"वह लड़का है .\"\n",
    "        # Reference: https://stackoverflow.com/questions/3645931/python-padding-punctuation-with-white-spaces-keeping-punctuation\n",
    "        # Replace everything with space except (a-z, A-Z, \".\", \"?\", \"!\", \",\", \"।\", Hindi characters)\n",
    "        # Reference: https://stackoverflow.com/questions/76658990/regex-expression-to-validate-only-hindi-devnagri-letters-in-python\n",
    "        w = re.sub(r\"[^?.!,\"+hindi_characters_pattern+\"]\", \" \", w)        # discarded english terms also, if needed (Ideally should not be given)\n",
    "        w = re.sub(r\"([?.!,।])\", r\" \\1 \", w)\n",
    "        w = re.sub(r'[\" \"]+', \" \", w)\n",
    "        w = w.strip()\n",
    "\n",
    "        # Add a start and an end token to the sentence\n",
    "        # so that the model knows when to start and stop predicting.\n",
    "        w = '<start> ' + w + ' <end>'\n",
    "        return w\n",
    "    def preprocess_sentence_english(self, w):\n",
    "        w = self.unicode_to_ascii(w.lower().strip())\n",
    "\n",
    "        # creating a space between a word and the punctuation following it\n",
    "        # eg: \"he is a boy.\" => \"he is a boy .\"\n",
    "        # Reference:- https://stackoverflow.com/questions/3645931/python-padding-punctuation-with-white-spaces-keeping-punctuation\n",
    "        w = re.sub(r\"([?.!,¿])\", r\" \\1 \", w)\n",
    "        w = re.sub(r'[\" \"]+', \" \", w)\n",
    "\n",
    "        # replacing everything with space except (a-z, A-Z, \".\", \"?\", \"!\", \",\")\n",
    "        w = re.sub(r\"[^a-zA-Z?.!,¿]+\", \" \", w)\n",
    "        w = w.strip()\n",
    "\n",
    "        # adding a start and an end token to the sentence\n",
    "        # so that the model know when to start and stop predicting.\n",
    "        w = '<start> ' + w + ' <end>'\n",
    "        return w\n",
    "    \n",
    "    def create_dataset(self, path, num_examples):\n",
    "        # path : path to en-hi.txt file\n",
    "        # num_examples : Limit the total number of training example for faster training (set num_examples = len(lines) to use full data)\n",
    "        lines = io.open(path, encoding='UTF-8').read().strip().split('\\n')\n",
    "        # lines contains each of the lines as it is in .txt ... like 0->'Go.\\tVe.', 1->'Go.\\tVete.'...\n",
    "        word_pairs = []\n",
    "        for l in lines[:num_examples]:\n",
    "            splited = l.split('\\t')\n",
    "            hindi = self.preprocess_sentence_hindi(splited[1])\n",
    "            english = self.preprocess_sentence_english(splited[0])\n",
    "            if (not self.threshold) or (len(hindi.split(' '))<=self.threshold+2  and len(english.split(' '))<=self.threshold+2 + 10):       # this extra 10 is some extra space for input\n",
    "                word_pairs.append([english, hindi])\n",
    "        # word_pairs = [['<start> go . <end>', '<start> ve . <end>'],['<start> go . <end>', '<start> vete . <end>'],...]\n",
    "        return zip(*word_pairs)\n",
    "\n",
    "    # Step 3 and Step 4\n",
    "    def tokenize(self, lang):\n",
    "        # lang = list of sentences in a language\n",
    "        \n",
    "        print(len(lang), \"example sentence: {}\".format(lang[-1]))\n",
    "        print(len(lang), \"example sentence: {}\".format(lang[4]))\n",
    "        lang_tokenizer = tf.keras.preprocessing.text.Tokenizer(filters='', oov_token='<OOV>')\n",
    "        lang_tokenizer.fit_on_texts(lang)\n",
    "\n",
    "        ## tf.keras.preprocessing.text.Tokenizer.texts_to_sequences converts string (w1, w2, w3, ......, wn) \n",
    "        ## to a list of correspoding integer ids of words (id_w1, id_w2, id_w3, ...., id_wn)\n",
    "        tensor = lang_tokenizer.texts_to_sequences(lang) \n",
    "\n",
    "        ## tf.keras.preprocessing.sequence.pad_sequences takes argument a list of integer id sequences \n",
    "        ## and pads the sequences to match the longest sequences in the given input\n",
    "        tensor = tf.keras.preprocessing.sequence.pad_sequences(tensor, padding='post')\n",
    "\n",
    "        return tensor, lang_tokenizer\n",
    "\n",
    "    def load_dataset(self, path, num_examples=None):\n",
    "        # creating cleaned input, output pairs\n",
    "        # targ_lang, inp_lang = self.create_dataset(path, num_examples)             # changing the target and input if necessary\n",
    "        inp_lang, targ_lang  = self.create_dataset(path, num_examples)\n",
    "        # targ_lang = ('<start> go . <end>','<start> go . <end>',...)\n",
    "        # inp_lang = ('<start> ve . <end>','<start> vete . <end>',...)\n",
    "        input_tensor, inp_lang_tokenizer = self.tokenize(inp_lang)\n",
    "        target_tensor, targ_lang_tokenizer = self.tokenize(targ_lang)\n",
    "        # target_tensor = [array([ 2, 37,  4,  3,  0,  0,  0,  0,  0,  0,  0]),array([ 2, 37,  4,  3,  0,  0,  0,  0,  0,  0,  0]),...]\n",
    "        # input_tensor = [array([ 2, 136,  4,  3,  0,  0,  0,  0,  0,  0,  0]),array([ 2, 294,  4,  3,  0,  0,  0,  0,  0,  0,  0]),...]\n",
    "        return input_tensor, target_tensor, inp_lang_tokenizer, targ_lang_tokenizer\n",
    "\n",
    "    def call(self, num_examples, BUFFER_SIZE, BATCH_SIZE):\n",
    "        file_path = \"data/translation/en-hi.txt\"\n",
    "        input_tensor, target_tensor, self.inp_lang_tokenizer, self.targ_lang_tokenizer = self.load_dataset(file_path, num_examples)\n",
    "        # target_tensor = [array([ 2, 37,  4,  3,  0,  0,  0,  0,  0,  0,  0]),array([ 2, 37,  4,  3,  0,  0,  0,  0,  0,  0,  0]),...]\n",
    "        # input_tensor = [array([ 2, 136,  4,  3,  0,  0,  0,  0,  0,  0,  0]),array([ 2, 294,  4,  3,  0,  0,  0,  0,  0,  0,  0]),...]\n",
    "        input_tensor_train, input_tensor_val, target_tensor_train, target_tensor_val = train_test_split(input_tensor, target_tensor, test_size=0.2)\n",
    "\n",
    "        train_dataset = tf.data.Dataset.from_tensor_slices((input_tensor_train, target_tensor_train)) # -> contains list of 64 trainingXY tensors -> each batch's each tensor is pair of tensors -> both containing tokenized words\n",
    "        train_dataset = train_dataset.shuffle(BUFFER_SIZE).batch(BATCH_SIZE, drop_remainder=True)\n",
    "\n",
    "        val_dataset = tf.data.Dataset.from_tensor_slices((input_tensor_val, target_tensor_val))\n",
    "        val_dataset = val_dataset.batch(BATCH_SIZE, drop_remainder=True)\n",
    "\n",
    "        return train_dataset, val_dataset, self.inp_lang_tokenizer, self.targ_lang_tokenizer"
   ]
  },
  {
   "cell_type": "code",
   "execution_count": 6,
   "metadata": {},
   "outputs": [
    {
     "name": "stdout",
     "output_type": "stream",
     "text": [
      "356948 example sentence: <start> so on that day their pleas shall be of no avail , nor will they be allowed to make amends . <end>\n",
      "356948 example sentence: <start> a list of plugins that are disabled by default <end>\n",
      "356948 example sentence: <start> तो उस दिन सरकश लोगों को न उनकी उज्र माअज़ेरत कुछ काम आएगी और न उनकी सुनवाई होगी <end>\n",
      "356948 example sentence: <start> उन प्लग इनों की सूची जिन्हें डिफोल्ट रूप से निष्क्रिय किया गया है <end>\n"
     ]
    }
   ],
   "source": [
    "BUFFER_SIZE = 61000                     # Buffer size > number of samples\n",
    "BATCH_SIZE = 64\n",
    "# Let's limit the #training examples for faster training\n",
    "num_examples = 1659084//4                    # 1659084 <- total data size (25% taken) -> my system only works with 2.5% (8 GB RAM)\n",
    "profiling_log_dir = \"./profile_logs\"\n",
    "dataset_creator = NMTDataset('eng-hindi',threshold = 36)\n",
    "train_dataset, val_dataset, inp_lang, targ_lang = dataset_creator.call(num_examples, BUFFER_SIZE, BATCH_SIZE)"
   ]
  },
  {
   "cell_type": "code",
   "execution_count": 7,
   "metadata": {},
   "outputs": [
    {
     "data": {
      "text/plain": [
       "(<tf.Tensor: shape=(64, 48), dtype=int32, numpy=\n",
       " array([[    2, 28766,     3, ...,     0,     0,     0],\n",
       "        [    2,     5,   307, ...,     0,     0,     0],\n",
       "        [    2,  2852,  1760, ...,     0,     0,     0],\n",
       "        ...,\n",
       "        [    2,    32,  2476, ...,     0,     0,     0],\n",
       "        [    2,    28,    19, ...,     0,     0,     0],\n",
       "        [    2,  1768,     3, ...,     0,     0,     0]])>,\n",
       " <tf.Tensor: shape=(64, 38), dtype=int32, numpy=\n",
       " array([[    2, 26202,     7, ...,     0,     0,     0],\n",
       "        [    2,   189,    41, ...,     0,     0,     0],\n",
       "        [    2, 12434,  1251, ...,     0,     0,     0],\n",
       "        ...,\n",
       "        [    2,   531,  5512, ...,     0,     0,     0],\n",
       "        [    2,    33,    45, ...,     0,     0,     0],\n",
       "        [    2, 14332,     3, ...,     0,     0,     0]])>)"
      ]
     },
     "execution_count": 7,
     "metadata": {},
     "output_type": "execute_result"
    }
   ],
   "source": [
    "example_input_batch, example_target_batch = next(iter(train_dataset))\n",
    "example_input_batch, example_target_batch                               # Note: two extra space in input and output is due to <start> & <end>"
   ]
  },
  {
   "cell_type": "code",
   "execution_count": 8,
   "metadata": {},
   "outputs": [],
   "source": [
    "vocab_inp_size = len(inp_lang.word_index)+1\n",
    "vocab_tar_size = len(targ_lang.word_index)+1\n",
    "max_length_input = example_input_batch.shape[1]\n",
    "max_length_output = example_target_batch.shape[1]\n",
    "\n",
    "embedding_dim = 256\n",
    "units = 1024\n",
    "steps_per_epoch = num_examples//BATCH_SIZE\n"
   ]
  },
  {
   "cell_type": "code",
   "execution_count": 9,
   "metadata": {},
   "outputs": [
    {
     "name": "stdout",
     "output_type": "stream",
     "text": [
      "max_length_english, max_length_hindi, vocab_size_english, vocab_size_hindi\n"
     ]
    },
    {
     "data": {
      "text/plain": [
       "(48, 38, 34365, 31733)"
      ]
     },
     "execution_count": 9,
     "metadata": {},
     "output_type": "execute_result"
    }
   ],
   "source": [
    "print(\"max_length_english, max_length_hindi, vocab_size_english, vocab_size_hindi\")\n",
    "max_length_input, max_length_output, vocab_inp_size, vocab_tar_size"
   ]
  },
  {
   "cell_type": "code",
   "execution_count": 10,
   "metadata": {},
   "outputs": [],
   "source": [
    "##### ENCODER\n",
    "\n",
    "class Encoder(tf.keras.Model):\n",
    "  def __init__(self, vocab_size, embedding_dim, enc_units, batch_sz):\n",
    "    super(Encoder, self).__init__()\n",
    "    self.batch_sz = batch_sz\n",
    "    self.enc_units = enc_units\n",
    "    self.embedding = tf.keras.layers.Embedding(vocab_size, embedding_dim)                  # input embedding -> vocab_size * embedding_dim -> Network's lookup table (https://www.tensorflow.org/text/guide/word_embeddings) -> also knows the relationship between words\n",
    "\n",
    "    ##-------- LSTM layer in Encoder ------- ##\n",
    "    self.lstm_layer = tf.keras.layers.LSTM(self.enc_units,\n",
    "                                   return_sequences=True,\n",
    "                                   return_state=True,\n",
    "                                   recurrent_initializer='glorot_uniform')\n",
    "    \n",
    "\n",
    "\n",
    "  def call(self, x, hidden):\n",
    "    x = self.embedding(x)\n",
    "    # print(\"Encoding: \",x)\n",
    "    output, h, c = self.lstm_layer(x, initial_state = hidden)\n",
    "    return output, h, c\n",
    "\n",
    "  def initialize_hidden_state(self):\n",
    "    return [tf.zeros((self.batch_sz, self.enc_units)), tf.zeros((self.batch_sz, self.enc_units))] "
   ]
  },
  {
   "cell_type": "code",
   "execution_count": 11,
   "metadata": {},
   "outputs": [],
   "source": [
    "# initialize Encoder\n",
    "encoder = Encoder(vocab_inp_size, embedding_dim, units, BATCH_SIZE)"
   ]
  },
  {
   "cell_type": "code",
   "execution_count": 12,
   "metadata": {},
   "outputs": [],
   "source": [
    "# Function to estimate memory usage of a tensor\n",
    "def estimate_memory(tensor):\n",
    "    num_elements = tf.size(tensor)\n",
    "    data_type_size = tensor.dtype.size\n",
    "    memory_usage = num_elements * data_type_size\n",
    "    return memory_usage"
   ]
  },
  {
   "cell_type": "code",
   "execution_count": 13,
   "metadata": {},
   "outputs": [],
   "source": [
    "## Test Encoder Stack\n",
    "# sample input\n",
    "sample_hidden = encoder.initialize_hidden_state()\n",
    "sample_output, sample_h, sample_c = encoder(example_input_batch, sample_hidden)"
   ]
  },
  {
   "cell_type": "code",
   "execution_count": 14,
   "metadata": {},
   "outputs": [
    {
     "name": "stdout",
     "output_type": "stream",
     "text": [
      "Encoder output shape: (batch size, sequence length, units) (64, 48, 1024)\n",
      "Encoder h vecotr shape: (batch size, units) (64, 1024)\n",
      "Encoder c vector shape: (batch size, units) (64, 1024)\n",
      "Output tensor memory: 12582912 bytes\n",
      "Hidden tensor memory: 262144 bytes\n",
      "Cell tensor memory: 262144 bytes\n",
      "Total :  12.5 MB\n"
     ]
    }
   ],
   "source": [
    "\n",
    "print ('Encoder output shape: (batch size, sequence length, units) {}'.format(sample_output.shape))     # this output shape has sequence length too (in middle, 48) -> since return_sequence = True\n",
    "print ('Encoder h vecotr shape: (batch size, units) {}'.format(sample_h.shape))                         # Notice the symmetry breaking problem\n",
    "print ('Encoder c vector shape: (batch size, units) {}'.format(sample_c.shape))                         # Notice the symmetry breaking problem\n",
    "\n",
    "output_size = estimate_memory(sample_output)\n",
    "h_size = estimate_memory(sample_h)\n",
    "c_size = estimate_memory(sample_c)\n",
    "print(\"Output tensor memory:\", output_size.numpy(), \"bytes\")\n",
    "print(\"Hidden tensor memory:\", h_size.numpy(), \"bytes\")\n",
    "print(\"Cell tensor memory:\", c_size.numpy(), \"bytes\")\n",
    "print(\"Total : \",(output_size + h_size + c_size).numpy()/1024**2, \"MB\")"
   ]
  },
  {
   "cell_type": "code",
   "execution_count": 15,
   "metadata": {},
   "outputs": [
    {
     "name": "stdout",
     "output_type": "stream",
     "text": [
      "embedding\n",
      "Trainable weights:\n",
      "encoder/embedding/embeddings:0 (34365, 256)\n",
      "Memory usage: 33.5595703125 MB\n",
      "Non-trainable weights:\n",
      "\n",
      "\n",
      "lstm\n",
      "Trainable weights:\n",
      "encoder/lstm/lstm_cell/kernel:0 (256, 4096)\n",
      "Memory usage: 4.0 MB\n",
      "encoder/lstm/lstm_cell/recurrent_kernel:0 (1024, 4096)\n",
      "Memory usage: 16.0 MB\n",
      "encoder/lstm/lstm_cell/bias:0 (4096,)\n",
      "Memory usage: 0.015625 MB\n",
      "Non-trainable weights:\n",
      "\n",
      "\n",
      "Total model memory (Params only): 53.5751953125 MB\n",
      "Model: \"encoder\"\n",
      "_________________________________________________________________\n",
      " Layer (type)                Output Shape              Param #   \n",
      "=================================================================\n",
      " embedding (Embedding)       multiple                  8797440   \n",
      "                                                                 \n",
      " lstm (LSTM)                 multiple                  5246976   \n",
      "                                                                 \n",
      "=================================================================\n",
      "Total params: 14,044,416\n",
      "Trainable params: 14,044,416\n",
      "Non-trainable params: 0\n",
      "_________________________________________________________________\n"
     ]
    }
   ],
   "source": [
    "for layer in encoder.layers:\n",
    "    print(layer.name)\n",
    "    print(\"Trainable weights:\")\n",
    "    for weight in layer.trainable_weights:\n",
    "        print(weight.name, weight.shape)\n",
    "        print(\"Memory usage:\", tf.size(weight).numpy() * weight.dtype.size/1024**2, \"MB\")\n",
    "    print(\"Non-trainable weights:\")\n",
    "    for weight in layer.non_trainable_weights:\n",
    "        print(weight.name, weight.shape)\n",
    "        print(\"Memory usage:\", tf.size(weight).numpy() * weight.dtype.size/1024**2, \"MB\")\n",
    "    print(\"\\n\")\n",
    "\n",
    "\n",
    "\n",
    "# Estimate memory usage of the model\n",
    "total_model_memory = sum(estimate_memory(var) for var in encoder.trainable_variables)\n",
    "print(\"Total model memory (Params only):\", total_model_memory.numpy()/1024**2, \"MB\")\n",
    "encoder.summary()"
   ]
  },
  {
   "cell_type": "code",
   "execution_count": 16,
   "metadata": {},
   "outputs": [],
   "source": [
    "class Decoder(tf.keras.Model):\n",
    "  def __init__(self, vocab_size, embedding_dim, dec_units, batch_sz, attention_type='luong'):\n",
    "    super(Decoder, self).__init__()\n",
    "    self.batch_sz = batch_sz\n",
    "    self.dec_units = dec_units\n",
    "    self.attention_type = attention_type\n",
    "    \n",
    "    # Embedding Layer\n",
    "    self.embedding = tf.keras.layers.Embedding(vocab_size, embedding_dim)\n",
    "    \n",
    "    #Final Dense layer on which softmax will be applied\n",
    "    self.fc = tf.keras.layers.Dense(vocab_size)\n",
    "\n",
    "    # Define the fundamental cell for decoder recurrent structure\n",
    "    self.decoder_rnn_cell = tf.keras.layers.LSTMCell(self.dec_units)\n",
    "   \n",
    "\n",
    "\n",
    "    # Sampler\n",
    "    self.sampler = tfa.seq2seq.sampler.TrainingSampler()\n",
    "\n",
    "    # Create attention mechanism with memory = None\n",
    "    self.attention_mechanism = self.build_attention_mechanism(self.dec_units, \n",
    "                                                              None, self.batch_sz*[max_length_input], self.attention_type)\n",
    "\n",
    "    # Wrap attention mechanism with the fundamental rnn cell of decoder\n",
    "    self.rnn_cell = self.build_rnn_cell(batch_sz)\n",
    "\n",
    "    # Define the decoder with respect to fundamental rnn cell\n",
    "    self.decoder = tfa.seq2seq.BasicDecoder(self.rnn_cell, sampler=self.sampler, output_layer=self.fc)\n",
    "\n",
    "    \n",
    "  def build_rnn_cell(self, batch_sz):\n",
    "    rnn_cell = tfa.seq2seq.AttentionWrapper(self.decoder_rnn_cell, \n",
    "                                  self.attention_mechanism, attention_layer_size=self.dec_units)\n",
    "    return rnn_cell\n",
    "\n",
    "  def build_attention_mechanism(self, dec_units, memory, memory_sequence_length, attention_type='luong'):\n",
    "    # ------------- #\n",
    "    # typ: Which sort of attention (Bahdanau, Luong)\n",
    "    # dec_units: final dimension of attention outputs \n",
    "    # memory: encoder hidden states of shape (batch_size, max_length_input, enc_units)\n",
    "    # memory_sequence_length: 1d array of shape (batch_size) with every element set to max_length_input (for masking purpose)\n",
    "\n",
    "    if(attention_type=='bahdanau'):\n",
    "      return tfa.seq2seq.BahdanauAttention(units=dec_units, memory=memory, memory_sequence_length=memory_sequence_length)\n",
    "    else:\n",
    "      return tfa.seq2seq.LuongAttention(units=dec_units, memory=memory, memory_sequence_length=memory_sequence_length)\n",
    "\n",
    "  def build_initial_state(self, batch_sz, encoder_state, Dtype):\n",
    "    decoder_initial_state = self.rnn_cell.get_initial_state(batch_size=batch_sz, dtype=Dtype)\n",
    "    decoder_initial_state = decoder_initial_state.clone(cell_state=encoder_state)\n",
    "    return decoder_initial_state\n",
    "\n",
    "\n",
    "  def call(self, inputs, initial_state):\n",
    "    x = self.embedding(inputs)\n",
    "    outputs, _, _ = self.decoder(x, initial_state=initial_state, sequence_length=self.batch_sz*[max_length_output-1])\n",
    "    return outputs\n"
   ]
  },
  {
   "cell_type": "code",
   "execution_count": 17,
   "metadata": {},
   "outputs": [],
   "source": [
    "# Test decoder stack\n",
    "\n",
    "decoder = Decoder(vocab_tar_size, embedding_dim, units, BATCH_SIZE, 'luong')\n",
    "sample_x = tf.random.uniform((BATCH_SIZE, max_length_output))\n",
    "decoder.attention_mechanism.setup_memory(sample_output)\n",
    "initial_state = decoder.build_initial_state(BATCH_SIZE, [sample_h, sample_c], tf.float32)\n"
   ]
  },
  {
   "cell_type": "code",
   "execution_count": 18,
   "metadata": {},
   "outputs": [
    {
     "name": "stdout",
     "output_type": "stream",
     "text": [
      "Intermediate output shapes: (64, 37, 31733)\n",
      "Intermediate output sizes: 286.650634765625 MB\n",
      "Intermediate output shapes: (64, 37)\n",
      "Intermediate output sizes: 0.009033203125 MB\n"
     ]
    }
   ],
   "source": [
    "sample_decoder_outputs = decoder(sample_x, initial_state)\n",
    "for output in sample_decoder_outputs:\n",
    "    print(\"Intermediate output shapes:\",output.shape)\n",
    "    print(\"Intermediate output sizes:\",tf.size(output).numpy() * output.dtype.size /1024**2,\"MB\")"
   ]
  },
  {
   "cell_type": "code",
   "execution_count": 19,
   "metadata": {},
   "outputs": [
    {
     "name": "stdout",
     "output_type": "stream",
     "text": [
      "embedding_1\n",
      "Trainable weights:\n",
      "decoder/embedding_1/embeddings:0 (31733, 256)\n",
      "Memory usage: 30.9892578125 MB\n",
      "Non-trainable weights:\n",
      "\n",
      "\n",
      "dense\n",
      "Trainable weights:\n",
      "decoder/basic_decoder/decoder/dense/kernel:0 (1024, 31733)\n",
      "Memory usage: 123.95703125 MB\n",
      "decoder/basic_decoder/decoder/dense/bias:0 (31733,)\n",
      "Memory usage: 0.12105178833007812 MB\n",
      "Non-trainable weights:\n",
      "\n",
      "\n",
      "lstm_cell_1\n",
      "Trainable weights:\n",
      "decoder/basic_decoder/decoder/attention_wrapper/lstm_cell_1/kernel:0 (1280, 4096)\n",
      "Memory usage: 20.0 MB\n",
      "decoder/basic_decoder/decoder/attention_wrapper/lstm_cell_1/recurrent_kernel:0 (1024, 4096)\n",
      "Memory usage: 16.0 MB\n",
      "decoder/basic_decoder/decoder/attention_wrapper/lstm_cell_1/bias:0 (4096,)\n",
      "Memory usage: 0.015625 MB\n",
      "Non-trainable weights:\n",
      "\n",
      "\n",
      "LuongAttention\n",
      "Trainable weights:\n",
      "LuongAttention/memory_layer/kernel:0 (1024, 1024)\n",
      "Memory usage: 4.0 MB\n",
      "Non-trainable weights:\n",
      "\n",
      "\n",
      "attention_wrapper\n",
      "Trainable weights:\n",
      "decoder/basic_decoder/decoder/attention_wrapper/attention_layer/kernel:0 (2048, 1024)\n",
      "Memory usage: 8.0 MB\n",
      "decoder/basic_decoder/decoder/attention_wrapper/lstm_cell_1/kernel:0 (1280, 4096)\n",
      "Memory usage: 20.0 MB\n",
      "decoder/basic_decoder/decoder/attention_wrapper/lstm_cell_1/recurrent_kernel:0 (1024, 4096)\n",
      "Memory usage: 16.0 MB\n",
      "decoder/basic_decoder/decoder/attention_wrapper/lstm_cell_1/bias:0 (4096,)\n",
      "Memory usage: 0.015625 MB\n",
      "LuongAttention/memory_layer/kernel:0 (1024, 1024)\n",
      "Memory usage: 4.0 MB\n",
      "Non-trainable weights:\n",
      "\n",
      "\n",
      "basic_decoder\n",
      "Trainable weights:\n",
      "decoder/basic_decoder/decoder/attention_wrapper/attention_layer/kernel:0 (2048, 1024)\n",
      "Memory usage: 8.0 MB\n",
      "decoder/basic_decoder/decoder/attention_wrapper/lstm_cell_1/kernel:0 (1280, 4096)\n",
      "Memory usage: 20.0 MB\n",
      "decoder/basic_decoder/decoder/attention_wrapper/lstm_cell_1/recurrent_kernel:0 (1024, 4096)\n",
      "Memory usage: 16.0 MB\n",
      "decoder/basic_decoder/decoder/attention_wrapper/lstm_cell_1/bias:0 (4096,)\n",
      "Memory usage: 0.015625 MB\n",
      "LuongAttention/memory_layer/kernel:0 (1024, 1024)\n",
      "Memory usage: 4.0 MB\n",
      "decoder/basic_decoder/decoder/dense/kernel:0 (1024, 31733)\n",
      "Memory usage: 123.95703125 MB\n",
      "decoder/basic_decoder/decoder/dense/bias:0 (31733,)\n",
      "Memory usage: 0.12105178833007812 MB\n",
      "Non-trainable weights:\n",
      "\n",
      "\n",
      "Total model memory (Params only): 203.08296585083008 MB\n",
      "Model: \"decoder\"\n",
      "_________________________________________________________________\n",
      " Layer (type)                Output Shape              Param #   \n",
      "=================================================================\n",
      " embedding_1 (Embedding)     multiple                  8123648   \n",
      "                                                                 \n",
      " dense (Dense)               multiple                  32526325  \n",
      "                                                                 \n",
      " lstm_cell_1 (LSTMCell)      multiple                  9441280   \n",
      "                                                                 \n",
      " LuongAttention (LuongAttent  multiple                 1048576   \n",
      " ion)                                                            \n",
      "                                                                 \n",
      " attention_wrapper (Attentio  multiple                 12587008  \n",
      " nWrapper)                                                       \n",
      "                                                                 \n",
      " basic_decoder (BasicDecoder  multiple                 45113333  \n",
      " )                                                               \n",
      "                                                                 \n",
      "=================================================================\n",
      "Total params: 53,236,981\n",
      "Trainable params: 53,236,981\n",
      "Non-trainable params: 0\n",
      "_________________________________________________________________\n"
     ]
    }
   ],
   "source": [
    "for layer in decoder.layers:\n",
    "    print(layer.name)\n",
    "    print(\"Trainable weights:\")\n",
    "    for weight in layer.trainable_weights:\n",
    "        print(weight.name, weight.shape)\n",
    "        print(\"Memory usage:\", tf.size(weight).numpy() * weight.dtype.size/1024**2, \"MB\")\n",
    "    print(\"Non-trainable weights:\")\n",
    "    for weight in layer.non_trainable_weights:\n",
    "        print(weight.name, weight.shape)\n",
    "        print(\"Memory usage:\", tf.size(weight).numpy() * weight.dtype.size/1024**2, \"MB\")\n",
    "    print(\"\\n\")\n",
    "# Estimate memory usage of the model\n",
    "total_model_memory = sum(estimate_memory(var) for var in decoder.trainable_variables)\n",
    "print(\"Total model memory (Params only):\", total_model_memory.numpy()/1024**2, \"MB\")\n",
    "\n",
    "decoder.summary()"
   ]
  },
  {
   "cell_type": "code",
   "execution_count": 20,
   "metadata": {},
   "outputs": [],
   "source": [
    "optimizer = tf.keras.optimizers.Adam()\n",
    "\n",
    "def loss_function(real, pred):\n",
    "  # real shape = (BATCH_SIZE, max_length_output)\n",
    "  # pred shape = (BATCH_SIZE, max_length_output, tar_vocab_size )\n",
    "  cross_entropy = tf.keras.losses.SparseCategoricalCrossentropy(from_logits=True, reduction='none')\n",
    "  loss = cross_entropy(y_true=real, y_pred=pred)\n",
    "  mask = tf.logical_not(tf.math.equal(real,0))   #output 0 for y=0 else output 1\n",
    "  mask = tf.cast(mask, dtype=loss.dtype)  \n",
    "  loss = mask* loss\n",
    "  loss = tf.reduce_mean(loss)\n",
    "  return loss  "
   ]
  },
  {
   "cell_type": "code",
   "execution_count": 21,
   "metadata": {},
   "outputs": [],
   "source": [
    "checkpoint_dir = './training_checkpoints_ENG_HINDI'\n",
    "checkpoint_prefix = os.path.join(checkpoint_dir, \"ckptEngHindi\")\n",
    "checkpoint = tf.train.Checkpoint(optimizer=optimizer,\n",
    "                                 encoder=encoder,\n",
    "                                 decoder=decoder)"
   ]
  },
  {
   "cell_type": "code",
   "execution_count": 22,
   "metadata": {},
   "outputs": [],
   "source": [
    "@tf.function\n",
    "def train_step(inp, targ, enc_hidden):\n",
    "  loss = 0\n",
    "  with tf.GradientTape() as tape:\n",
    "    enc_output, enc_h, enc_c = encoder(inp, enc_hidden)\n",
    "\n",
    "\n",
    "    dec_input = targ[ : , :-1 ] # Ignore <end> token\n",
    "    real = targ[ : , 1: ]         # ignore <start> token\n",
    "\n",
    "    # Set the AttentionMechanism object with encoder_outputs\n",
    "    decoder.attention_mechanism.setup_memory(enc_output)\n",
    "    # Create AttentionWrapperState as initial_state for decoder\n",
    "    decoder_initial_state = decoder.build_initial_state(BATCH_SIZE, [enc_h, enc_c], tf.float32)\n",
    "    pred = decoder(dec_input, decoder_initial_state)\n",
    "    logits = pred.rnn_output\n",
    "    loss = loss_function(real, logits)\n",
    "\n",
    "  variables = encoder.trainable_variables + decoder.trainable_variables\n",
    "  gradients = tape.gradient(loss, variables)\n",
    "  optimizer.apply_gradients(zip(gradients, variables))\n",
    "  \n",
    "\n",
    "  return loss"
   ]
  },
  {
   "cell_type": "code",
   "execution_count": 23,
   "metadata": {},
   "outputs": [],
   "source": [
    "# os.environ[\"TF_GPU_THREAD_MODE\"] = \"gpu_private\"\n",
    "# os.environ[\"TF_CPP_MIN_LOG_LEVEL\"] = \"0\""
   ]
  },
  {
   "cell_type": "code",
   "execution_count": null,
   "metadata": {},
   "outputs": [],
   "source": [
    "# Enable TensorFlow eager execution\n",
    "tf.config.run_functions_eagerly(True)\n",
    "\n",
    "EPOCHS = 10\n",
    "\n",
    "for epoch in range(EPOCHS):\n",
    "    start = time.time()\n",
    "\n",
    "    enc_hidden = encoder.initialize_hidden_state()\n",
    "    total_loss = 0\n",
    "    for (batch, (inp, targ)) in enumerate(train_dataset.take(steps_per_epoch)):\n",
    "        batch_loss = train_step(inp, targ, enc_hidden)\n",
    "        total_loss += batch_loss\n",
    "        if batch % 100 == 0:\n",
    "            print('Epoch {} Batch {} Loss {:.4f}'.format(epoch + 1, batch, batch_loss.numpy()))\n",
    "\n",
    "    # saving (checkpoint) the model every epochs\n",
    "    if (epoch + 1) % 2 == 0:\n",
    "        checkpoint.save(file_prefix=checkpoint_prefix)\n",
    "\n",
    "    print('Epoch {} Loss {:.4f}'.format(epoch + 1, total_loss / steps_per_epoch))\n",
    "    print('Time taken for 1 epoch {} sec\\n'.format(time.time() - start))\n",
    "    \n",
    "# Note: for current vocab size this code will hit OOM on my PC. Same config runs in translator_eng_hindi.py (see in the same directory). Here too\n",
    "# os.environ[\"TF_GPU_ALLOCATOR\"] = \"cuda_malloc_async\" is used, but somehow its not working with this .ipynb file. So training is done with .py file.\n",
    "# Trained model will be shared soon (latest loss is .36 in just 2 EPOCHS) after 20 EPOCHS"
   ]
  },
  {
   "cell_type": "code",
   "execution_count": 24,
   "metadata": {},
   "outputs": [],
   "source": [
    "tf.keras.backend.clear_session()"
   ]
  },
  {
   "cell_type": "code",
   "execution_count": 25,
   "metadata": {},
   "outputs": [],
   "source": [
    "def evaluate_sentence(sentence):\n",
    "  sentence = dataset_creator.preprocess_sentence_english(sentence)\n",
    "\n",
    "  inputs = [inp_lang.word_index[i] for i in sentence.split(' ')]\n",
    "  inputs = tf.keras.preprocessing.sequence.pad_sequences([inputs],\n",
    "                                                          maxlen=max_length_input,\n",
    "                                                          padding='post')\n",
    "  inputs = tf.convert_to_tensor(inputs)\n",
    "  inference_batch_size = inputs.shape[0]\n",
    "  result = ''\n",
    "\n",
    "  enc_start_state = [tf.zeros((inference_batch_size, units)), tf.zeros((inference_batch_size,units))]\n",
    "  enc_out, enc_h, enc_c = encoder(inputs, enc_start_state)\n",
    "\n",
    "  dec_h = enc_h\n",
    "  dec_c = enc_c\n",
    "\n",
    "  start_tokens = tf.fill([inference_batch_size], targ_lang.word_index['<start>'])\n",
    "  end_token = targ_lang.word_index['<end>']\n",
    "\n",
    "  greedy_sampler = tfa.seq2seq.GreedyEmbeddingSampler()\n",
    "\n",
    "  # Instantiate BasicDecoder object\n",
    "  decoder_instance = tfa.seq2seq.BasicDecoder(cell=decoder.rnn_cell, sampler=greedy_sampler, output_layer=decoder.fc)\n",
    "  # Setup Memory in decoder stack\n",
    "  decoder.attention_mechanism.setup_memory(enc_out)\n",
    "\n",
    "  # set decoder_initial_state\n",
    "  decoder_initial_state = decoder.build_initial_state(inference_batch_size, [enc_h, enc_c], tf.float32)\n",
    "\n",
    "\n",
    "  ### Since the BasicDecoder wraps around Decoder's rnn cell only, you have to ensure that the inputs to BasicDecoder \n",
    "  ### decoding step is output of embedding layer. tfa.seq2seq.GreedyEmbeddingSampler() takes care of this. \n",
    "  ### You only need to get the weights of embedding layer, which can be done by decoder.embedding.variables[0] and pass this callabble to BasicDecoder's call() function\n",
    "\n",
    "  decoder_embedding_matrix = decoder.embedding.variables[0]\n",
    "  \n",
    "  outputs, _, _ = decoder_instance(decoder_embedding_matrix, start_tokens = start_tokens, end_token= end_token, initial_state=decoder_initial_state)\n",
    "  return outputs.sample_id.numpy()\n",
    "\n",
    "def translate(sentence):\n",
    "  result = evaluate_sentence(sentence)\n",
    "  print(result)\n",
    "  result = targ_lang.sequences_to_texts(result)\n",
    "  print('Input: %s' % (sentence))\n",
    "  print('Predicted translation: {}'.format(result))"
   ]
  },
  {
   "cell_type": "code",
   "execution_count": 26,
   "metadata": {},
   "outputs": [
    {
     "data": {
      "text/plain": [
       "<tensorflow.python.checkpoint.checkpoint.CheckpointLoadStatus at 0x1edc16a3610>"
      ]
     },
     "execution_count": 26,
     "metadata": {},
     "output_type": "execute_result"
    }
   ],
   "source": [
    "# restoring the latest checkpoint in checkpoint_dir\n",
    "checkpoint.restore(tf.train.latest_checkpoint(checkpoint_dir))"
   ]
  },
  {
   "cell_type": "code",
   "execution_count": 28,
   "metadata": {},
   "outputs": [
    {
     "name": "stdout",
     "output_type": "stream",
     "text": [
      "[[ 33  39  14 412  15  20 289 955  22  28 355  70  26   3]]\n",
      "Input: We are not going?\n",
      "Predicted translation: ['क्या हम नहीं देखते कि तुम हमें यूँ ही न देख रहे हो <end>']\n"
     ]
    }
   ],
   "source": [
    "translate(u'We are not going?')"
   ]
  },
  {
   "cell_type": "code",
   "execution_count": 29,
   "metadata": {},
   "outputs": [
    {
     "name": "stdout",
     "output_type": "stream",
     "text": [
      "[[  33 1032  278   47    3]]\n",
      "Input: Hello myself dog?\n",
      "Predicted translation: ['क्या उत्तर दें ? <end>']\n"
     ]
    }
   ],
   "source": [
    "translate(u'Hello myself dog')"
   ]
  },
  {
   "cell_type": "code",
   "execution_count": 33,
   "metadata": {},
   "outputs": [
    {
     "name": "stdout",
     "output_type": "stream",
     "text": [
      "[[   5   17   43   20   25 4849    4    7   64   93   94  107  283    3]]\n",
      "Input: Good to know that your can't well enough.\n",
      "Predicted translation: ['और जो कुछ तुम पर पड़ती है , उसे उसकी ओर ले जाएगी <end>']\n"
     ]
    }
   ],
   "source": [
    "translate(u\"Good to know that your can't well enough.\")"
   ]
  },
  {
   "cell_type": "code",
   "execution_count": 37,
   "metadata": {},
   "outputs": [],
   "source": [
    "def beam_evaluate_sentence(sentence, beam_width=3):\n",
    "  sentence = dataset_creator.preprocess_sentence_english(sentence)\n",
    "\n",
    "  inputs = [inp_lang.word_index[i] for i in sentence.split(' ')]\n",
    "  inputs = tf.keras.preprocessing.sequence.pad_sequences([inputs],\n",
    "                                                          maxlen=max_length_input,\n",
    "                                                          padding='post')\n",
    "  inputs = tf.convert_to_tensor(inputs)\n",
    "  inference_batch_size = inputs.shape[0]\n",
    "  result = ''\n",
    "\n",
    "  enc_start_state = [tf.zeros((inference_batch_size, units)), tf.zeros((inference_batch_size,units))]\n",
    "  enc_out, enc_h, enc_c = encoder(inputs, enc_start_state)\n",
    "\n",
    "  dec_h = enc_h\n",
    "  dec_c = enc_c\n",
    "\n",
    "  start_tokens = tf.fill([inference_batch_size], targ_lang.word_index['<start>'])\n",
    "  end_token = targ_lang.word_index['<end>']\n",
    "\n",
    "  # From official documentation\n",
    "  # NOTE If you are using the BeamSearchDecoder with a cell wrapped in AttentionWrapper, then you must ensure that:\n",
    "  # The encoder output has been tiled to beam_width via tfa.seq2seq.tile_batch (NOT tf.tile).\n",
    "  # The batch_size argument passed to the get_initial_state method of this wrapper is equal to true_batch_size * beam_width.\n",
    "  # The initial state created with get_initial_state above contains a cell_state value containing properly tiled final state from the encoder.\n",
    "\n",
    "  enc_out = tfa.seq2seq.tile_batch(enc_out, multiplier=beam_width)\n",
    "  decoder.attention_mechanism.setup_memory(enc_out)\n",
    "  print(\"beam_with * [batch_size, max_length_input, rnn_units] :  3 * [1, 16, 1024]] :\", enc_out.shape)\n",
    "\n",
    "  # set decoder_inital_state which is an AttentionWrapperState considering beam_width\n",
    "  hidden_state = tfa.seq2seq.tile_batch([enc_h, enc_c], multiplier=beam_width)\n",
    "  decoder_initial_state = decoder.rnn_cell.get_initial_state(batch_size=beam_width*inference_batch_size, dtype=tf.float32)\n",
    "  decoder_initial_state = decoder_initial_state.clone(cell_state=hidden_state)\n",
    "\n",
    "  # Instantiate BeamSearchDecoder\n",
    "  decoder_instance = tfa.seq2seq.BeamSearchDecoder(decoder.rnn_cell,beam_width=beam_width, output_layer=decoder.fc)\n",
    "  decoder_embedding_matrix = decoder.embedding.variables[0]\n",
    "\n",
    "  # The BeamSearchDecoder object's call() function takes care of everything.\n",
    "  outputs, final_state, sequence_lengths = decoder_instance(decoder_embedding_matrix, start_tokens=start_tokens, end_token=end_token, initial_state=decoder_initial_state)\n",
    "  # outputs is tfa.seq2seq.FinalBeamSearchDecoderOutput object. \n",
    "  # The final beam predictions are stored in outputs.predicted_id\n",
    "  # outputs.beam_search_decoder_output is a tfa.seq2seq.BeamSearchDecoderOutput object which keep tracks of beam_scores and parent_ids while performing a beam decoding step\n",
    "  # final_state = tfa.seq2seq.BeamSearchDecoderState object.\n",
    "  # Sequence Length = [inference_batch_size, beam_width] details the maximum length of the beams that are generated\n",
    "\n",
    "  \n",
    "  # outputs.predicted_id.shape = (inference_batch_size, time_step_outputs, beam_width)\n",
    "  # outputs.beam_search_decoder_output.scores.shape = (inference_batch_size, time_step_outputs, beam_width)\n",
    "  # Convert the shape of outputs and beam_scores to (inference_batch_size, beam_width, time_step_outputs)\n",
    "  final_outputs = tf.transpose(outputs.predicted_ids, perm=(0,2,1))\n",
    "  beam_scores = tf.transpose(outputs.beam_search_decoder_output.scores, perm=(0,2,1))\n",
    "  \n",
    "  return final_outputs.numpy(), beam_scores.numpy()"
   ]
  },
  {
   "cell_type": "code",
   "execution_count": 38,
   "metadata": {},
   "outputs": [],
   "source": [
    "def beam_translate(sentence):\n",
    "  result, beam_scores = beam_evaluate_sentence(sentence)\n",
    "  print(result.shape, beam_scores.shape)\n",
    "  for beam, score in zip(result, beam_scores):\n",
    "    print(beam.shape, score.shape)\n",
    "    output = targ_lang.sequences_to_texts(beam)\n",
    "    output = [a[:a.index('<end>')] for a in output]\n",
    "    beam_score = [a.sum() for a in score]\n",
    "    print('Input: %s' % (sentence))\n",
    "    for i in range(len(output)):\n",
    "      print('{} Predicted translation: {}  {}'.format(i+1, output[i], beam_score[i]))\n"
   ]
  },
  {
   "cell_type": "code",
   "execution_count": 39,
   "metadata": {},
   "outputs": [
    {
     "name": "stdout",
     "output_type": "stream",
     "text": [
      "beam_with * [batch_size, max_length_input, rnn_units] :  3 * [1, 16, 1024]] : (3, 48, 1024)\n",
      "(1, 3, 15) (1, 3, 15)\n",
      "(3, 15) (3, 15)\n",
      "Input: have you eaten already ?\n",
      "1 Predicted translation: क्या संपुष्टि के लिए पूछना है ?   -41.65583801269531\n",
      "2 Predicted translation: क्या संपुष्टि के दौरान पूछना है ?   -57.87459945678711\n",
      "3 Predicted translation: क्या संपुष्टि के लिए पूछना है , तंत्र ने पहले ही किया है .   -109.09284210205078\n"
     ]
    }
   ],
   "source": [
    "beam_translate(u'have you eaten already ?')"
   ]
  },
  {
   "cell_type": "code",
   "execution_count": 40,
   "metadata": {},
   "outputs": [
    {
     "name": "stdout",
     "output_type": "stream",
     "text": [
      "beam_with * [batch_size, max_length_input, rnn_units] :  3 * [1, 16, 1024]] : (3, 48, 1024)\n",
      "(1, 3, 11) (1, 3, 11)\n",
      "(3, 11) (3, 11)\n",
      "Input: I am a very poor model\n",
      "1 Predicted translation: मै तो बराबर हूँ   -49.308773040771484\n",
      "2 Predicted translation: मैं तो वही जगह है   -52.82007598876953\n",
      "3 Predicted translation: मै तो बराबर हूँ कि मै तो पहल जगह हूँ   -68.15151977539062\n"
     ]
    }
   ],
   "source": [
    "beam_translate(u'I am a very poor model')"
   ]
  },
  {
   "cell_type": "code",
   "execution_count": 41,
   "metadata": {},
   "outputs": [],
   "source": [
    "# Contraction Expansion\n",
    "# This project expands contractions in English text using a dictionary of common contractions.\n",
    "\n",
    "# Overview\n",
    "# The contractions dictionary contains common English contractions mapped to their expanded forms:\n",
    "\n",
    "# contractions = {\n",
    "#   \"ain't\": \"am not\",\n",
    "#   \"aren't\": \"are not\",\n",
    "#   ...\n",
    "# }\n",
    "\n",
    "\n",
    "\n",
    "# To expand contractions in a string of text:\n",
    "\n",
    "# Tokenize the text into words\n",
    "# Check if each word is in the contractions dictionary\n",
    "# If so, replace it with the expanded form\n",
    "# Usage\n",
    "# text = \"I ain't going if they aren't there.\"\n",
    "\n",
    "# expanded = expand_contractions(text, contractions)\n",
    "# print(expanded)\n",
    "\n",
    "# # \"I am not going if they are not there.\"\n",
    "\n",
    "\n",
    "\n",
    "# Sample Networks\n",
    "# Here are some sample neural networks that could be used for contraction expansion:\n",
    "\n",
    "# A LSTM network to model text sequences.\n",
    "\n",
    "# A transformer network to learn contractions and expansions.\n",
    "\n",
    "# Finetuning BERT for context-aware contraction expansion.\n",
    "\n",
    "# References\n",
    "# Contractions list\n",
    "# LSTM networks\n",
    "# Transformer networks\n",
    "# BERT\n",
    "# Let me know if you would like me to modify or expand this draft README!"
   ]
  }
 ],
 "metadata": {
  "kernelspec": {
   "display_name": "Python 3",
   "language": "python",
   "name": "python3"
  },
  "language_info": {
   "codemirror_mode": {
    "name": "ipython",
    "version": 3
   },
   "file_extension": ".py",
   "mimetype": "text/x-python",
   "name": "python",
   "nbconvert_exporter": "python",
   "pygments_lexer": "ipython3",
   "version": "3.10.14"
  }
 },
 "nbformat": 4,
 "nbformat_minor": 2
}
