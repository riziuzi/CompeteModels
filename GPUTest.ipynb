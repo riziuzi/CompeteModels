{
 "cells": [
  {
   "cell_type": "code",
   "execution_count": 4,
   "metadata": {},
   "outputs": [],
   "source": [
    "import tensorflow as tf\n",
    "import numpy as np\n",
    "import time"
   ]
  },
  {
   "cell_type": "code",
   "execution_count": 5,
   "metadata": {},
   "outputs": [
    {
     "data": {
      "text/plain": [
       "[PhysicalDevice(name='/physical_device:GPU:0', device_type='GPU')]"
      ]
     },
     "execution_count": 5,
     "metadata": {},
     "output_type": "execute_result"
    }
   ],
   "source": [
    "tf.config.list_physical_devices('GPU')"
   ]
  },
  {
   "cell_type": "code",
   "execution_count": 6,
   "metadata": {},
   "outputs": [],
   "source": [
    "def MatrixSizeGB(matrix_size, dataType):\n",
    "    return dataType*matrix_size*matrix_size/1024/1024/1024"
   ]
  },
  {
   "cell_type": "code",
   "execution_count": 7,
   "metadata": {},
   "outputs": [],
   "source": [
    "# Define matrix dimensions\n",
    "matrix_size = 10000\n",
    "# Create random matrices\n",
    "matrix_a = np.random.rand(matrix_size, matrix_size).astype(np.float32)  # MatrixSizeGB\n",
    "matrix_b = np.random.rand(matrix_size, matrix_size).astype(np.float32)  # MatrixSizeGB"
   ]
  },
  {
   "cell_type": "code",
   "execution_count": 8,
   "metadata": {},
   "outputs": [
    {
     "name": "stdout",
     "output_type": "stream",
     "text": [
      "Each matrix size (in GB) will become :  0.3725290298461914 GB\n"
     ]
    }
   ],
   "source": [
    "print(\"Each matrix size (in GB) will become : \", MatrixSizeGB(matrix_size=matrix_size, dataType = np.dtype(np.float32).itemsize),\"GB\")"
   ]
  },
  {
   "cell_type": "code",
   "execution_count": 9,
   "metadata": {},
   "outputs": [
    {
     "name": "stdout",
     "output_type": "stream",
     "text": [
      "Matrix multiplication on CPU took 12.4363 seconds.\n"
     ]
    }
   ],
   "source": [
    "# Perform matrix multiplication on CPU\n",
    "start_time_cpu = time.time()\n",
    "result_cpu = np.dot(matrix_a, matrix_b)\n",
    "end_time_cpu = time.time()\n",
    "elapsed_time_cpu = end_time_cpu - start_time_cpu\n",
    "print(f\"Matrix multiplication on CPU took {elapsed_time_cpu:.4f} seconds.\")"
   ]
  },
  {
   "cell_type": "code",
   "execution_count": 10,
   "metadata": {},
   "outputs": [],
   "source": [
    "del result_cpu\n",
    "del matrix_a\n",
    "del matrix_b"
   ]
  },
  {
   "cell_type": "code",
   "execution_count": 11,
   "metadata": {},
   "outputs": [
    {
     "name": "stdout",
     "output_type": "stream",
     "text": [
      "Matrix multiplication on GPU took 3.6025 seconds.\n"
     ]
    }
   ],
   "source": [
    "matrix_size = 10000\n",
    "# Perform matrix multiplication on GPU\n",
    "# Convert NumPy arrays to TensorFlow tensors\n",
    "matrix_a_tf = tf.constant(np.random.rand(matrix_size, matrix_size).astype(np.float32))\n",
    "matrix_b_tf = tf.constant(np.random.rand(matrix_size, matrix_size).astype(np.float32))\n",
    "\n",
    "\n",
    "# Perform matrix multiplication using TensorFlow on GPU\n",
    "start_time_gpu = time.time()\n",
    "result_gpu = tf.matmul(matrix_a_tf, matrix_b_tf)\n",
    "# Wait for GPU computation to complete\n",
    "tf.device('/CPU:0') \n",
    "result_gpu.numpy() \n",
    "end_time_gpu = time.time()\n",
    "elapsed_time_gpu = end_time_gpu - start_time_gpu\n",
    "print(f\"Matrix multiplication on GPU took {elapsed_time_gpu:.4f} seconds.\")\n"
   ]
  },
  {
   "cell_type": "code",
   "execution_count": 12,
   "metadata": {},
   "outputs": [],
   "source": [
    "del matrix_a_tf\n",
    "del matrix_b_tf\n",
    "del result_gpu\n"
   ]
  }
 ],
 "metadata": {
  "kernelspec": {
   "display_name": "py310",
   "language": "python",
   "name": "python3"
  },
  "language_info": {
   "codemirror_mode": {
    "name": "ipython",
    "version": 3
   },
   "file_extension": ".py",
   "mimetype": "text/x-python",
   "name": "python",
   "nbconvert_exporter": "python",
   "pygments_lexer": "ipython3",
   "version": "3.10.14"
  }
 },
 "nbformat": 4,
 "nbformat_minor": 2
}
